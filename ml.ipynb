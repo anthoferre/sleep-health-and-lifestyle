{
 "cells": [
  {
   "cell_type": "markdown",
   "id": "a2ef8190",
   "metadata": {},
   "source": [
    "### Introduction au jeu de données\n",
    "- Lien : https://www.kaggle.com/datasets/uom190346a/sleep-health-and-lifestyle-dataset\n"
   ]
  },
  {
   "cell_type": "code",
   "execution_count": 1,
   "id": "252a56f0",
   "metadata": {},
   "outputs": [],
   "source": [
    "# import des différentes librairies\n",
    "\n",
    "import pandas as pd\n",
    "import numpy as np\n",
    "import matplotlib.pyplot as plt\n",
    "import seaborn as sns\n",
    "sns.set_theme()\n",
    "%matplotlib inline\n"
   ]
  },
  {
   "cell_type": "code",
   "execution_count": 2,
   "id": "3a0a0276",
   "metadata": {},
   "outputs": [],
   "source": [
    "df = pd.read_csv('Sleep_health_and_lifestyle_dataset.csv')\n",
    "df = df.fillna(value= 'No Sleep Disorder')\n",
    "df.columns = df.columns.str.title().str.replace(' ','_')"
   ]
  },
  {
   "cell_type": "markdown",
   "id": "139607a7",
   "metadata": {},
   "source": [
    "#### Etude primitive du jeu de données\n",
    "- 13 colonnes et 374 lignes : un petit jeu de données\n",
    "- 7 colonnes avec des valeurs de type entier, 5 de type de texte et 1 de type arrondi\n",
    "- la colonne *\"Blood Pressure\"* pourrait être diviser en deux variables de type entier, une Systolic et une Diastolic\n",
    "- à première vue, il n'y a pas de valeurs abberantes (describe)\n",
    "- dans la colonne *'Sleep Disorder'*, des NaN ont été mis pour dire que le sujet n'a pas de trouble du sommeil, cela peut porter à confusion donc remplacer par 'No Sleep Disorder'\n",
    "- des NaN que dans la colonne *'Sleep Disorder'* donc on va remplacer les valeurs manquantes avec la méthode fillna sur le dataset\n",
    "- pas de doublons\n",
    "- autant d'homme que de femme dans l'échantillon, des métiers assez premium (sauf vendeur) et plus de personnes sans troubles du sommeil(58%), avec de l'apnée (21%) et avec de l'insomnie (21%)"
   ]
  },
  {
   "cell_type": "code",
   "execution_count": 3,
   "id": "decec444",
   "metadata": {},
   "outputs": [],
   "source": [
    "#séparer la colonne blood pressure en deux variables plus interprétable par la suite\n",
    "df[['Systolic','Diastolic']] = df['Blood_Pressure'].str.split('/', expand=True)\n",
    "\n",
    "#convertir les deux variables de type object en type numérique\n",
    "df['Systolic'] = pd.to_numeric(df['Systolic'])\n",
    "df['Diastolic'] = pd.to_numeric(df['Diastolic'])\n",
    "\n",
    "#supprimer la colonne blood pressure qui n'a plus d'intérêt\n",
    "df.drop(['Blood_Pressure','Person_Id'], axis = 1, inplace= True)"
   ]
  },
  {
   "cell_type": "code",
   "execution_count": 4,
   "id": "fa4e1874",
   "metadata": {},
   "outputs": [],
   "source": [
    "# création de nouvelles variables \n",
    "# ratio_sleep_activity : Cela pourrait indiquer l'équilibre entre le repos et l'activité.\n",
    "df['Ratio_Sleep_Activity'] = np.round(df['Sleep_Duration']/df['Physical_Activity_Level'],3)\n",
    "\n",
    "#différence systolique - diastolique : indicateur de la pression pulsée\n",
    "df['Diff_Systolic_Diastolic'] = df['Systolic'] - df['Diastolic']\n",
    "\n",
    "#supprimer les variables systolic et diastolic\n",
    "df = df.drop(['Systolic','Diastolic'], axis = 1)\n",
    "\n",
    "#catégoriser l'âge\n",
    "df['Cat_Age'] = pd.cut(df['Age'], bins = [0,18,30,50,65,100], labels = ['Enfant','Jeunes_adultes','Adultes_en_milieu_de_vie','Adultes_plus_âgés','Seniors'])"
   ]
  },
  {
   "cell_type": "code",
   "execution_count": 5,
   "id": "631933d4",
   "metadata": {},
   "outputs": [],
   "source": [
    "df['Bmi_Category'] = df['Bmi_Category'].replace({'Normal Weight' : 'Normal'})"
   ]
  },
  {
   "cell_type": "code",
   "execution_count": 6,
   "id": "67209323",
   "metadata": {},
   "outputs": [],
   "source": [
    "#mieux catégoriser la variable occupation\n",
    "df['Occupation'] = df.Occupation.replace({'Software Engineer' : 'Ingénierie & Science',\n",
    "                                          'Engineer' : 'Ingénierie & Science',\n",
    "                                          'Scientist' : 'Ingénierie & Science',\n",
    "                                          'Doctor' : 'Santé',\n",
    "                                          'Nurse' : 'Santé',\n",
    "                                          'Sales Representative' : 'Ventes & Commerce',\n",
    "                                          'Salesperson' : 'Ventes & Commerce',\n",
    "                                          'Teacher' : 'Enseignement',\n",
    "                                          'Accountant' : 'Finance & Droit',\n",
    "                                          'Lawyer' : 'Finance & Droit',\n",
    "                                          'Manager' : 'Management'})"
   ]
  },
  {
   "cell_type": "markdown",
   "id": "8d9483e4",
   "metadata": {},
   "source": [
    "### DataVisualisation\n",
    "##### Analyser la corrélation entre les variables numériques :\n",
    "- *Sleep Duration* et *Quality of Sleep* sont fortement corrélés **(0.88)** donc peut être en sortir qu'un indice combiné des deux (somme des deux en ayant mis à la même échelle auparavant)\n",
    "- La *quality of sleep* / *sleep* duration sont fortement corrélés négativement **(-0.81 et -0.9)** avec le Stress Level \n",
    "- *Daily steps* et *Physical Activity Level* sont fortement corrélés **(0.77)** donc peut être en sortir qu'un indice combiné des deux (somme des deux en ayant mis à la même échelle auparavant))\n",
    "- *Systolic* et *Diastolic* sont fortement corrélés **(0.97)** donc garder que la différence semble être une bonne solution"
   ]
  },
  {
   "cell_type": "markdown",
   "id": "f3cfcff9",
   "metadata": {},
   "source": [
    "for col in df.select_dtypes('object').columns:\n",
    "    plt.figure()\n",
    "    plt.pie(df[col].value_counts(), autopct= '%.f%%')\n",
    "    plt.legend(df[col].value_counts().index,bbox_to_anchor=(1, 1))"
   ]
  },
  {
   "cell_type": "markdown",
   "id": "880117ba",
   "metadata": {},
   "source": [
    "for col in df.select_dtypes(['int','float']).columns:\n",
    "    plt.figure()\n",
    "    sns.boxplot(data = df, x = col)"
   ]
  },
  {
   "cell_type": "markdown",
   "id": "632f67e1",
   "metadata": {},
   "source": [
    "plt.figure(figsize = (8,8))\n",
    "sns.heatmap(df.select_dtypes(['int','float']).corr(), annot = True);"
   ]
  },
  {
   "cell_type": "markdown",
   "id": "74a36f80",
   "metadata": {},
   "source": [
    "### Analyser les relations entre les variables du df et les variables liées au sommeil (Sleep Duration et Quality of Sleep)"
   ]
  },
  {
   "cell_type": "markdown",
   "id": "204c56e2",
   "metadata": {},
   "source": [
    "- Il semblerait que plus tu es âgé, meilleure est la qualité de sommeil perçue (attention biais car les deux premiers critères 4 et 5 ont très peu d'échantillons) et plus le temps de sommeil est long (surtout pour les plus de 50 ans)\n",
    "- Plus le niveau d'activité physique & le nombre de pas quotidien sont importants, meilleure est la qualité de sommeil et plus le sommeil est long. (attention dans l'interprétation des résultats, certaines valeurs ne sont pas représentatives car une seule personne représente une valeur donc une barre)\n",
    "- Plus le niveau de stress est élevé, moins le sommeil est de bonne qualité et plus le sommeil est réduit.\n",
    "- Plus la fréquence cardiaque est faible, meilleure est la qualité du sommeil et la durée est importante (relation avec le niveau d'activité physique et le stress)\n",
    "- Pas d'observation pour la différence systolic-diastolic sur la qualité et la durée du sommeil\n",
    "- Il ne semble pas y avoir de relation entre le genre et la qualité + durée du sommeil (bien que + de 95% des personnes de l'échantillon ayant une qualité de sommeil de 9 sur 10 sont des femmes)\n",
    "- Pour le métier, on pourrait imagnier des différences mais pas de différences significatives visibles\n",
    "- Il semblerait que plus la personne est en surpoids voire obésité et moins la qualité de sommeil est bonne et plus le sommeil est de courte durée.\n",
    "\n",
    "- Attention : des valeurs de Ratio_Sleep_Activity nous montrent que ces personnes sont très similaires (même sexe, même métier, même niveau d'activité physique, même nombre de pas, même BMI category) peut être la même personne étudiée?"
   ]
  },
  {
   "cell_type": "markdown",
   "id": "94fe6e87",
   "metadata": {},
   "source": [
    "### Analyser les relations entre les variables du df et les troubles du sommeil"
   ]
  },
  {
   "cell_type": "markdown",
   "id": "915b55b6",
   "metadata": {},
   "source": [
    "- Il semblerait que les femmes fassent plus d'apnée du sommeil que les hommes.\n",
    "- Les personnes travaillant dans la santé semblent plus souffrir d'apnée du sommeil que le reste.\n",
    "- Les personnes ayant un IMC normal ont un sommeil sans trouble la plupart et ceux qui souffrent de troubles (que ce soit apnée du sommeil ou bien d'insomnie) sont ceux en surpoids.\n",
    "- La fréquence cardiaque ne semble pas avoir d'impact sur les troubles du sommeil ou non.\n",
    "- Il semblerait que l'apnée du sommeil soit plus importante pour des personnes plus âgés (50 ans)\n",
    "- Avoir un haut niveau d'activité physique & beaucoup de pas quotidien pourraient amener à de l'apnée du sommeil\n",
    "- Il semblerait comme vu avant qu'un niveau de stress plus bas induit l'abscence de troubles du sommeil.\n",
    "- La différence Systolic-Diastolic semble plus basse chez les personnes n'ayant pas de troubles du sommeil"
   ]
  },
  {
   "cell_type": "markdown",
   "id": "16654d4d",
   "metadata": {},
   "source": [
    "for col in df.select_dtypes(['object']).columns.drop('Sleep Disorder'):\n",
    "    plt.figure(figsize= (10,5))\n",
    "    sns.histplot(data = df, hue = col, x = 'cat_age', palette= 'viridis', stat = 'percent', multiple= 'fill')"
   ]
  },
  {
   "cell_type": "markdown",
   "id": "573f041c",
   "metadata": {},
   "source": [
    "### D'autres analyses\n",
    "- Il semblerait que selon le type de métier, la dépense énergétique n'est pas la même (santé et finance & droit +++), le niveau de stress est plus important dans le domaine du Commerce.\n",
    "- Dans notre échantillon, les femmes semblent moins stresser que les hommes.\n",
    "- Avec l'âge, le niveau de stress est plus faible mais moins de dépense énergétique et un IMC plus haut. Le stress semble donc être important car on a dit qu'avec l'âge le sommeil était de meilleur de qualité.\n",
    "- Les obèses semblent avoir une différence systolic-diastolic plus importante que les autres.\n",
    "- Plus de 50% des femmes de l'échantillon sont en surpoids, 70% des hommes ont un IMC normal et 85% des hommes sont obèses.\n",
    "- Certaines professions ont un IMC normal (ingénierie & science, santé, finance & droit) et d'autres semblent plus facilement être en surpoids  (vente & commerce, enseignement et management)\n"
   ]
  },
  {
   "cell_type": "markdown",
   "id": "3d8736d9",
   "metadata": {},
   "source": [
    "for col in df.select_dtypes(['int','float']).columns.drop(['Quality of Sleep','Sleep Duration']):\n",
    "    plt.figure(figsize= (10,5))\n",
    "    sns.barplot(data = df, y = col, hue = 'BMI Category', palette= 'viridis')"
   ]
  },
  {
   "cell_type": "markdown",
   "id": "6545d133",
   "metadata": {},
   "source": [
    "### Etude statistique\n",
    "#### Sleep Disorder\n",
    "- Age : différence significative \n",
    "- Physical Activity Level : différence significative\n",
    "- Stress Level : différence significative\n",
    "- Heart rate : différence significative\n",
    "- Daily Steps : différence significative\n",
    "- Diff_Systolic_Diastolic : différence significative\n",
    "- Gender : association significative\n",
    "- Occupation: association significative\n",
    "- BMI Category : association significative\n",
    "\n",
    "#### Sleep Duration\n",
    "- Age : différence significative \n",
    "- Physical Activity Level : différence significative\n",
    "- Stress Level : différence significative\n",
    "- Heart Rate : différence significative\n",
    "- Daily Steps : pas de différence significative\n",
    "- Diff_Systolic_Diastolic : différence significative\n",
    "- Gender : différence significative\n",
    "- Occupation: différence significative\n",
    "- BMI Category : différence significative\n",
    "\n",
    "#### Quality of Sleep\n",
    "- Age : différence significative\n",
    "- Physical Activity Level : différence significative\n",
    "- Stress Level : différence significative\n",
    "- Heart Rate : différence significative\n",
    "- Daily Steps : pas de différence significative\n",
    "- Diff_Systolic_Diastolic : différence significative\n",
    "- Gender : association significative\n",
    "- Occupation: association significative\n",
    "- BMI Category : association significative\n"
   ]
  },
  {
   "cell_type": "code",
   "execution_count": 7,
   "id": "a208df2b",
   "metadata": {},
   "outputs": [
    {
     "name": "stdout",
     "output_type": "stream",
     "text": [
      "Corrélation de Pearson entre variable_num1 et variable_num3:\n",
      "  Coefficient: 0.474\n",
      "  Valeur p: 0.000\n",
      "  La corrélation est statistiquement significative.\n"
     ]
    }
   ],
   "source": [
    "from scipy.stats import pearsonr\n",
    "\n",
    "corr_pearson, p_value_pearson = pearsonr(df['Quality_Of_Sleep'], df['Age'])\n",
    "print(f\"Corrélation de Pearson entre variable_num1 et variable_num3:\")\n",
    "print(f\"  Coefficient: {corr_pearson:.3f}\")\n",
    "print(f\"  Valeur p: {p_value_pearson:.3f}\")\n",
    "if p_value_pearson < 0.05:\n",
    "    print(\"  La corrélation est statistiquement significative.\")\n",
    "else:\n",
    "    print(\"  La corrélation n'est pas statistiquement significative.\")"
   ]
  },
  {
   "cell_type": "code",
   "execution_count": 8,
   "id": "d9f6c28c",
   "metadata": {},
   "outputs": [
    {
     "name": "stdout",
     "output_type": "stream",
     "text": [
      "ANOVA sur les catégories A, B et C:\n",
      "  Statistique F: 31.002\n",
      "  Valeur p: 0.000\n",
      "  Il y a une différence significative entre les moyennes d'au moins deux groupes.\n"
     ]
    }
   ],
   "source": [
    "from scipy.stats import ttest_ind, f_oneway\n",
    "\n",
    "# Préparation des données pour l'ANOVA (pour 3 groupes ou plus)\n",
    "groups = [df[df['Bmi_Category'] == cat]['Sleep_Duration'] for cat in df['Bmi_Category'].unique()]\n",
    "\n",
    "# ANOVA (comparaison de plusieurs moyennes)\n",
    "# H0: Les moyennes de tous les groupes sont égales.\n",
    "# H1: Au moins une moyenne de groupe est différente des autres.\n",
    "statistic_anova, p_value_anova = f_oneway(*groups)\n",
    "print(f\"ANOVA sur les catégories A, B et C:\")\n",
    "print(f\"  Statistique F: {statistic_anova:.3f}\")\n",
    "print(f\"  Valeur p: {p_value_anova:.3f}\")\n",
    "if p_value_anova < 0.05:\n",
    "    print(\"  Il y a une différence significative entre les moyennes d'au moins deux groupes.\")\n",
    "else:\n",
    "    print(\"  Il n'y a pas de différence significative entre les moyennes des groupes.\")"
   ]
  },
  {
   "cell_type": "code",
   "execution_count": 9,
   "id": "03fa3f64",
   "metadata": {},
   "outputs": [
    {
     "name": "stdout",
     "output_type": "stream",
     "text": [
      "\n",
      "Test t de Student entre Catégorie A et B:\n",
      "  Statistique t: -2.362\n",
      "  Valeur p: 0.019\n",
      "  Il y a une différence significative entre les moyennes des groupes A et B.\n"
     ]
    }
   ],
   "source": [
    "# Préparation des données pour le test t (pour deux groupes)\n",
    "group_A = df[df['Gender'] == 'Male']['Sleep_Duration']\n",
    "group_B = df[df['Gender'] == 'Female']['Sleep_Duration']\n",
    "\n",
    "# Test t de Student (comparaison de deux moyennes)\n",
    "# H0: Les moyennes des deux groupes sont égales.\n",
    "# H1: Les moyennes des deux groupes sont différentes.\n",
    "statistic_ttest, p_value_ttest = ttest_ind(group_A, group_B)\n",
    "print(f\"\\nTest t de Student entre Catégorie A et B:\")\n",
    "print(f\"  Statistique t: {statistic_ttest:.3f}\")\n",
    "print(f\"  Valeur p: {p_value_ttest:.3f}\")\n",
    "if p_value_ttest < 0.05:\n",
    "    print(\"  Il y a une différence significative entre les moyennes des groupes A et B.\")\n",
    "else:\n",
    "    print(\"  Il n'y a pas de différence significative entre les moyennes des groupes A et B.\")\n"
   ]
  },
  {
   "cell_type": "code",
   "execution_count": 10,
   "id": "5a2a5ec0",
   "metadata": {},
   "outputs": [
    {
     "name": "stdout",
     "output_type": "stream",
     "text": [
      "Tableau de contingence:\n",
      " Gender             Female  Male\n",
      "Sleep_Disorder                 \n",
      "Insomnia               36    41\n",
      "No Sleep Disorder      82   137\n",
      "Sleep Apnea            67    11\n",
      "\n",
      "Test du Chi-2 d'indépendance:\n",
      "  Statistique Chi-2: 54.306\n",
      "  Valeur p: 0.000\n",
      "  Degrés de liberté: 2\n",
      "  Il y a une association statistiquement significative entre la couleur et la taille.\n"
     ]
    }
   ],
   "source": [
    "from scipy.stats import chi2_contingency\n",
    "\n",
    "# Créer un tableau de contingence\n",
    "# C'est un tableau qui montre la fréquence conjointe des catégories\n",
    "contingency_table = pd.crosstab(df['Sleep_Disorder'], df['Gender'])\n",
    "print(\"Tableau de contingence:\\n\", contingency_table)\n",
    "\n",
    "# Test du Chi-2 d'indépendance\n",
    "# H0: Les deux variables catégorielles sont indépendantes.\n",
    "# H1: Les deux variables catégorielles sont associées.\n",
    "chi2, p_value_chi2, dof, expected = chi2_contingency(contingency_table)\n",
    "print(f\"\\nTest du Chi-2 d'indépendance:\")\n",
    "print(f\"  Statistique Chi-2: {chi2:.3f}\")\n",
    "print(f\"  Valeur p: {p_value_chi2:.3f}\")\n",
    "print(f\"  Degrés de liberté: {dof}\")\n",
    "if p_value_chi2 < 0.05:\n",
    "    print(\"  Il y a une association statistiquement significative entre la couleur et la taille.\")\n",
    "else:\n",
    "    print(\"  Il n'y a pas d'association statistiquement significative entre la couleur et la taille.\")"
   ]
  },
  {
   "cell_type": "code",
   "execution_count": 11,
   "id": "d505131b",
   "metadata": {},
   "outputs": [
    {
     "name": "stderr",
     "output_type": "stream",
     "text": [
      "C:\\Users\\antho\\AppData\\Local\\Temp\\ipykernel_1740\\3708203568.py:2: FutureWarning: Downcasting behavior in `replace` is deprecated and will be removed in a future version. To retain the old behavior, explicitly call `result.infer_objects(copy=False)`. To opt-in to the future behavior, set `pd.set_option('future.no_silent_downcasting', True)`\n",
      "  df['Gender'] = df['Gender'].replace({'Male' : 0, 'Female' : 1})\n"
     ]
    }
   ],
   "source": [
    "# modification de la variable Gender binaire de type texte en 0 et 1 (entier)\n",
    "df['Gender'] = df['Gender'].replace({'Male' : 0, 'Female' : 1})\n",
    "\n",
    "# on sépare les variables d'intérêts (Qualité du sommeil, durée et troubles du sommeil) des variables (features) du dataframe\n",
    "Quality_Of_Sleep = df['Quality_Of_Sleep']\n",
    "Sleep_Duration = df['Sleep_Duration']\n",
    "Sleep_Disorder = df['Sleep_Disorder']\n",
    "features = pd.get_dummies(df.drop(['Quality_Of_Sleep','Sleep_Duration','Sleep_Disorder'], axis = 1))\n",
    "\n"
   ]
  },
  {
   "cell_type": "code",
   "execution_count": 12,
   "id": "ee83e8bb",
   "metadata": {},
   "outputs": [],
   "source": [
    "# import des différentes variables\n",
    "from sklearn.pipeline import Pipeline\n",
    "from sklearn.preprocessing import StandardScaler\n",
    "from sklearn.feature_selection import SelectKBest\n",
    "from sklearn.model_selection import train_test_split, RandomizedSearchCV\n",
    "from sklearn.linear_model import LogisticRegression, LinearRegression\n",
    "from sklearn.svm import SVC, SVR\n",
    "from sklearn.neighbors import KNeighborsClassifier, KNeighborsRegressor"
   ]
  },
  {
   "cell_type": "code",
   "execution_count": 13,
   "id": "1c72b17f",
   "metadata": {},
   "outputs": [
    {
     "data": {
      "text/html": [
       "<div>\n",
       "<style scoped>\n",
       "    .dataframe tbody tr th:only-of-type {\n",
       "        vertical-align: middle;\n",
       "    }\n",
       "\n",
       "    .dataframe tbody tr th {\n",
       "        vertical-align: top;\n",
       "    }\n",
       "\n",
       "    .dataframe thead th {\n",
       "        text-align: right;\n",
       "    }\n",
       "</style>\n",
       "<table border=\"1\" class=\"dataframe\">\n",
       "  <thead>\n",
       "    <tr style=\"text-align: right;\">\n",
       "      <th></th>\n",
       "      <th>Gender</th>\n",
       "      <th>Age</th>\n",
       "      <th>Physical_Activity_Level</th>\n",
       "      <th>Stress_Level</th>\n",
       "      <th>Heart_Rate</th>\n",
       "      <th>Daily_Steps</th>\n",
       "      <th>Ratio_Sleep_Activity</th>\n",
       "      <th>Diff_Systolic_Diastolic</th>\n",
       "      <th>Occupation_Enseignement</th>\n",
       "      <th>Occupation_Finance &amp; Droit</th>\n",
       "      <th>...</th>\n",
       "      <th>Occupation_Santé</th>\n",
       "      <th>Occupation_Ventes &amp; Commerce</th>\n",
       "      <th>Bmi_Category_Normal</th>\n",
       "      <th>Bmi_Category_Obese</th>\n",
       "      <th>Bmi_Category_Overweight</th>\n",
       "      <th>Cat_Age_Enfant</th>\n",
       "      <th>Cat_Age_Jeunes_adultes</th>\n",
       "      <th>Cat_Age_Adultes_en_milieu_de_vie</th>\n",
       "      <th>Cat_Age_Adultes_plus_âgés</th>\n",
       "      <th>Cat_Age_Seniors</th>\n",
       "    </tr>\n",
       "  </thead>\n",
       "  <tbody>\n",
       "    <tr>\n",
       "      <th>0</th>\n",
       "      <td>0</td>\n",
       "      <td>27</td>\n",
       "      <td>42</td>\n",
       "      <td>6</td>\n",
       "      <td>77</td>\n",
       "      <td>4200</td>\n",
       "      <td>0.145</td>\n",
       "      <td>43</td>\n",
       "      <td>False</td>\n",
       "      <td>False</td>\n",
       "      <td>...</td>\n",
       "      <td>False</td>\n",
       "      <td>False</td>\n",
       "      <td>False</td>\n",
       "      <td>False</td>\n",
       "      <td>True</td>\n",
       "      <td>False</td>\n",
       "      <td>True</td>\n",
       "      <td>False</td>\n",
       "      <td>False</td>\n",
       "      <td>False</td>\n",
       "    </tr>\n",
       "    <tr>\n",
       "      <th>1</th>\n",
       "      <td>0</td>\n",
       "      <td>28</td>\n",
       "      <td>60</td>\n",
       "      <td>8</td>\n",
       "      <td>75</td>\n",
       "      <td>10000</td>\n",
       "      <td>0.103</td>\n",
       "      <td>45</td>\n",
       "      <td>False</td>\n",
       "      <td>False</td>\n",
       "      <td>...</td>\n",
       "      <td>True</td>\n",
       "      <td>False</td>\n",
       "      <td>True</td>\n",
       "      <td>False</td>\n",
       "      <td>False</td>\n",
       "      <td>False</td>\n",
       "      <td>True</td>\n",
       "      <td>False</td>\n",
       "      <td>False</td>\n",
       "      <td>False</td>\n",
       "    </tr>\n",
       "    <tr>\n",
       "      <th>2</th>\n",
       "      <td>0</td>\n",
       "      <td>28</td>\n",
       "      <td>60</td>\n",
       "      <td>8</td>\n",
       "      <td>75</td>\n",
       "      <td>10000</td>\n",
       "      <td>0.103</td>\n",
       "      <td>45</td>\n",
       "      <td>False</td>\n",
       "      <td>False</td>\n",
       "      <td>...</td>\n",
       "      <td>True</td>\n",
       "      <td>False</td>\n",
       "      <td>True</td>\n",
       "      <td>False</td>\n",
       "      <td>False</td>\n",
       "      <td>False</td>\n",
       "      <td>True</td>\n",
       "      <td>False</td>\n",
       "      <td>False</td>\n",
       "      <td>False</td>\n",
       "    </tr>\n",
       "    <tr>\n",
       "      <th>3</th>\n",
       "      <td>0</td>\n",
       "      <td>28</td>\n",
       "      <td>30</td>\n",
       "      <td>8</td>\n",
       "      <td>85</td>\n",
       "      <td>3000</td>\n",
       "      <td>0.197</td>\n",
       "      <td>50</td>\n",
       "      <td>False</td>\n",
       "      <td>False</td>\n",
       "      <td>...</td>\n",
       "      <td>False</td>\n",
       "      <td>True</td>\n",
       "      <td>False</td>\n",
       "      <td>True</td>\n",
       "      <td>False</td>\n",
       "      <td>False</td>\n",
       "      <td>True</td>\n",
       "      <td>False</td>\n",
       "      <td>False</td>\n",
       "      <td>False</td>\n",
       "    </tr>\n",
       "    <tr>\n",
       "      <th>4</th>\n",
       "      <td>0</td>\n",
       "      <td>28</td>\n",
       "      <td>30</td>\n",
       "      <td>8</td>\n",
       "      <td>85</td>\n",
       "      <td>3000</td>\n",
       "      <td>0.197</td>\n",
       "      <td>50</td>\n",
       "      <td>False</td>\n",
       "      <td>False</td>\n",
       "      <td>...</td>\n",
       "      <td>False</td>\n",
       "      <td>True</td>\n",
       "      <td>False</td>\n",
       "      <td>True</td>\n",
       "      <td>False</td>\n",
       "      <td>False</td>\n",
       "      <td>True</td>\n",
       "      <td>False</td>\n",
       "      <td>False</td>\n",
       "      <td>False</td>\n",
       "    </tr>\n",
       "  </tbody>\n",
       "</table>\n",
       "<p>5 rows × 22 columns</p>\n",
       "</div>"
      ],
      "text/plain": [
       "   Gender  Age  Physical_Activity_Level  Stress_Level  Heart_Rate  \\\n",
       "0       0   27                       42             6          77   \n",
       "1       0   28                       60             8          75   \n",
       "2       0   28                       60             8          75   \n",
       "3       0   28                       30             8          85   \n",
       "4       0   28                       30             8          85   \n",
       "\n",
       "   Daily_Steps  Ratio_Sleep_Activity  Diff_Systolic_Diastolic  \\\n",
       "0         4200                 0.145                       43   \n",
       "1        10000                 0.103                       45   \n",
       "2        10000                 0.103                       45   \n",
       "3         3000                 0.197                       50   \n",
       "4         3000                 0.197                       50   \n",
       "\n",
       "   Occupation_Enseignement  Occupation_Finance & Droit  ...  Occupation_Santé  \\\n",
       "0                    False                       False  ...             False   \n",
       "1                    False                       False  ...              True   \n",
       "2                    False                       False  ...              True   \n",
       "3                    False                       False  ...             False   \n",
       "4                    False                       False  ...             False   \n",
       "\n",
       "   Occupation_Ventes & Commerce  Bmi_Category_Normal  Bmi_Category_Obese  \\\n",
       "0                         False                False               False   \n",
       "1                         False                 True               False   \n",
       "2                         False                 True               False   \n",
       "3                          True                False                True   \n",
       "4                          True                False                True   \n",
       "\n",
       "   Bmi_Category_Overweight  Cat_Age_Enfant  Cat_Age_Jeunes_adultes  \\\n",
       "0                     True           False                    True   \n",
       "1                    False           False                    True   \n",
       "2                    False           False                    True   \n",
       "3                    False           False                    True   \n",
       "4                    False           False                    True   \n",
       "\n",
       "   Cat_Age_Adultes_en_milieu_de_vie  Cat_Age_Adultes_plus_âgés  \\\n",
       "0                             False                      False   \n",
       "1                             False                      False   \n",
       "2                             False                      False   \n",
       "3                             False                      False   \n",
       "4                             False                      False   \n",
       "\n",
       "   Cat_Age_Seniors  \n",
       "0            False  \n",
       "1            False  \n",
       "2            False  \n",
       "3            False  \n",
       "4            False  \n",
       "\n",
       "[5 rows x 22 columns]"
      ]
     },
     "execution_count": 13,
     "metadata": {},
     "output_type": "execute_result"
    }
   ],
   "source": [
    "features.head()"
   ]
  },
  {
   "cell_type": "code",
   "execution_count": 14,
   "id": "bb7fe54b",
   "metadata": {},
   "outputs": [],
   "source": [
    "# supprimer les variables constantes\n",
    "features = features.drop(features.columns[features.nunique() == 1], axis = 1)"
   ]
  },
  {
   "cell_type": "code",
   "execution_count": 15,
   "id": "66ecca12",
   "metadata": {},
   "outputs": [],
   "source": [
    "features_copy = features.copy()\n",
    "features_copy['Physical_Activity_Global'] = StandardScaler().fit_transform(features_copy[['Physical_Activity_Level','Daily_Steps']]).mean(axis = 1)"
   ]
  },
  {
   "cell_type": "code",
   "execution_count": 16,
   "id": "323fdf3c",
   "metadata": {},
   "outputs": [],
   "source": [
    "features_copy = features.drop(['Age','Ratio_Sleep_Activity','Physical_Activity_Level','Daily_Steps'], axis = 1)"
   ]
  },
  {
   "cell_type": "code",
   "execution_count": 17,
   "id": "76d612ae",
   "metadata": {},
   "outputs": [],
   "source": [
    "def model_ml(features,target, model, param_grid, test_size = 0.25, random_state = 66, n_iter = 10, cv = 5,\n",
    "             scaler = StandardScaler(), selector = SelectKBest()):\n",
    "    \"\"\"\n",
    "    Entraîne et évalue un pipeline d'apprentissage automatique selon un modèle\n",
    "\n",
    "    Args:\n",
    "    features : variables d'intérêt du df\n",
    "    target : variable cible\n",
    "    model : modèle de ML/DL utilisé\n",
    "    param_grid : hyperparamètres à utiliser lors de la Pipeline\n",
    "    test_size : taille de l'échantillon de test\n",
    "    random_state :\n",
    "    n_iter : nombre d'itération du RandomizedSearchCV testé\n",
    "    cv : nombre d'échantillons créés pour la validation croisée\n",
    "    scaler : étape de normalisation\n",
    "    selector : sélectionner les variables d'intérêts pour l'entraînement du modèle\n",
    "\n",
    "    Returns:\n",
    "    grid : modèle entraîné retourné\n",
    "    y_pred : valeurs prédites par le modèle\n",
    "    confusion_matrix : matrice de confusion créée    \n",
    "    \"\"\"\n",
    "    x_train, x_test, y_train, y_test = train_test_split(features, Sleep_Disorder, test_size = test_size, random_state = random_state)\n",
    "\n",
    "    model_pipeline = Pipeline(steps= [('normalisation', scaler),\n",
    "                                    ('kbest', selector),\n",
    "                                    ('model', model)])\n",
    "\n",
    "    \n",
    "\n",
    "    grid = RandomizedSearchCV(model_pipeline,param_distributions = param_grid, n_iter = n_iter , cv = cv,\n",
    "                              scoring = 'accuracy', n_jobs = -1, random_state = random_state)\n",
    "    grid.fit(x_train,y_train)\n",
    "    y_pred = grid.predict(x_test)\n",
    "    print(f\"{model.__class__.__name__}\\n\")\n",
    "    print(\"Meilleur_score :\", grid.best_score_)\n",
    "    print(\"Meilleurs paramètres :\", grid.best_params_)\n",
    "\n",
    "    confusion_matrix = pd.crosstab(y_test,y_pred,rownames=['valeurs réelles'], colnames= ['valeurs prédites'])\n",
    "    print(\"Matrice de confusion :\\n\", confusion_matrix)\n",
    "\n",
    "    return grid, y_pred, confusion_matrix\n"
   ]
  },
  {
   "cell_type": "markdown",
   "id": "347d04ad",
   "metadata": {},
   "source": [
    "### Prédiction des modèles\n",
    "##### Avec toutes les variables de base\n",
    "- Logistic Regression : meilleur score 0.9\n",
    "- SVC : meilleur score 0.925\n",
    "- KNeighborsClassifier : meilleur score 0.9\n",
    "\n",
    "##### En enlevant l'âge\n",
    "- Logistic Regression : meilleur score 0.907\n",
    "- SVC : meilleur score 0.914\n",
    "- KNeighborsClassifier : meilleur score 0.903\n",
    "\n",
    "##### En combinant deux variables Physical_Activity_Level & Daily_Steps en une seule\n",
    "- Logistic Regression : meilleur score 0.904\n",
    "- SVC : meilleur score 0.918\n",
    "- KNeighborsClassifier : meilleur score 0.907\n",
    "\n",
    "##### En retirant les catégories d'emploi\n",
    "- Logistic Regression : meilleur score 0.911\n",
    "- SVC : meilleur score 0.918\n",
    "- KNeighborsClassifier : meilleur score 0.907\n",
    "\n",
    "##### En transformant Normal-Weight par Normal\n",
    "- Logistic Regression : meilleur score 0.907\n",
    "- SVC : meilleur score 0.918\n",
    "- KNeighborsClassifier : meilleur score 0.896"
   ]
  },
  {
   "cell_type": "code",
   "execution_count": 18,
   "id": "8bc6f12c",
   "metadata": {},
   "outputs": [
    {
     "name": "stdout",
     "output_type": "stream",
     "text": [
      "LogisticRegression\n",
      "\n",
      "Meilleur_score : 0.9071428571428571\n",
      "Meilleurs paramètres : {'model__C': 1, 'kbest__k': 12}\n",
      "Matrice de confusion :\n",
      " valeurs prédites   Insomnia  No Sleep Disorder  Sleep Apnea\n",
      "valeurs réelles                                            \n",
      "Insomnia                 14                  4            5\n",
      "No Sleep Disorder         0                 46            4\n",
      "Sleep Apnea               0                  2           19\n"
     ]
    }
   ],
   "source": [
    "log_reg_model = LogisticRegression(solver= 'liblinear', random_state = 66)\n",
    "log_reg_params = {'kbest__k' : [10,12,15,18,'all'],\n",
    "                  'model__C' : [0.0001,0.001,0.01,0.1,1]}\n",
    "\n",
    "grid_lr, y_pred_lr, cm_lr = model_ml(features = features_copy, target = Sleep_Disorder, model = log_reg_model, param_grid = log_reg_params, n_iter = 25)"
   ]
  },
  {
   "cell_type": "code",
   "execution_count": 19,
   "id": "d846f3af",
   "metadata": {},
   "outputs": [
    {
     "name": "stdout",
     "output_type": "stream",
     "text": [
      "SVC\n",
      "\n",
      "Meilleur_score : 0.9178571428571429\n",
      "Meilleurs paramètres : {'model__kernel': 'poly', 'model__gamma': 'scale', 'model__C': 1, 'kbest__k': 15}\n",
      "Matrice de confusion :\n",
      " valeurs prédites   Insomnia  No Sleep Disorder  Sleep Apnea\n",
      "valeurs réelles                                            \n",
      "Insomnia                 16                  4            3\n",
      "No Sleep Disorder         0                 47            3\n",
      "Sleep Apnea               0                  2           19\n"
     ]
    }
   ],
   "source": [
    "svc_model = SVC(random_state=66)\n",
    "svc_params = {'kbest__k' : [10,12,15,18,'all'],\n",
    "              'model__C' : [0.0001,0.001,0.01,0.1,1],\n",
    "              'model__kernel' : ['linear','poly','rbf','sigmoid'],\n",
    "              'model__gamma' : ['scale','auto']}\n",
    "grid_svc,y_pred_svc,cm_svc = model_ml(features_copy, Sleep_Disorder, model = svc_model, param_grid= svc_params, n_iter= 100)"
   ]
  },
  {
   "cell_type": "code",
   "execution_count": 20,
   "id": "07ef853b",
   "metadata": {},
   "outputs": [
    {
     "name": "stdout",
     "output_type": "stream",
     "text": [
      "KNeighborsClassifier\n",
      "\n",
      "Meilleur_score : 0.8964285714285716\n",
      "Meilleurs paramètres : {'model__n_neighbors': 4, 'kbest__k': 15}\n",
      "Matrice de confusion :\n",
      " valeurs prédites   Insomnia  No Sleep Disorder  Sleep Apnea\n",
      "valeurs réelles                                            \n",
      "Insomnia                 14                  4            5\n",
      "No Sleep Disorder         0                 46            4\n",
      "Sleep Apnea               0                  2           19\n"
     ]
    }
   ],
   "source": [
    "knc_model = KNeighborsClassifier()\n",
    "knc_params = {'kbest__k' : [10,12,15,18,'all'],\n",
    "              'model__n_neighbors' : [2,3,4,5,10,20]}\n",
    "grid_knc, y_pred_knc, cm_knc = model_ml(features_copy, target = Sleep_Disorder, model = knc_model, param_grid = knc_params, n_iter = 25)"
   ]
  }
 ],
 "metadata": {
  "kernelspec": {
   "display_name": ".venv",
   "language": "python",
   "name": "python3"
  },
  "language_info": {
   "codemirror_mode": {
    "name": "ipython",
    "version": 3
   },
   "file_extension": ".py",
   "mimetype": "text/x-python",
   "name": "python",
   "nbconvert_exporter": "python",
   "pygments_lexer": "ipython3",
   "version": "3.11.4"
  }
 },
 "nbformat": 4,
 "nbformat_minor": 5
}
